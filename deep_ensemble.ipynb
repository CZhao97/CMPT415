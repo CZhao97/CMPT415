{
 "cells": [
  {
   "cell_type": "code",
   "execution_count": 1,
   "metadata": {},
   "outputs": [],
   "source": [
    "import json\n",
    "import pandas as pd\n",
    "from datetime import datetime\n",
    "import matplotlib.pyplot as plot\n",
    "import os\n",
    "import torch.nn as nn\n",
    "import torch\n",
    "import torch.nn.functional as F\n",
    "from torch import optim"
   ]
  },
  {
   "cell_type": "code",
   "execution_count": 2,
   "metadata": {},
   "outputs": [],
   "source": [
    "class feedforward(nn.Module):\n",
    "    def __init__(self):\n",
    "        super().__init__()\n",
    "        torch.manual_seed(0)\n",
    "        self.net = nn.Sequential(\n",
    "            nn.Linear(2, 2), \n",
    "            nn.Sigmoid(), \n",
    "            nn.Linear(2, 4), \n",
    "            nn.Softmax())\n",
    "\n",
    "    def forward(self, X):\n",
    "        return self.net(X)"
   ]
  },
  {
   "cell_type": "code",
   "execution_count": 3,
   "metadata": {},
   "outputs": [],
   "source": [
    "class deep_ensemble:\n",
    "    def __init__(self, number_of_output):\n",
    "        self.model = feedforward()\n",
    "        self.loss_fn = F.cross_entropy\n",
    "        self.opt = optim.SGD(model.parameters(), lr=0.2)\n",
    "        \n",
    "    def fit(self, x = None, y = None, epochs = 10000, number_of_output = 1):\n",
    "        loss_ls = []\n",
    "        for itr in range(number_of_output):\n",
    "            for epoch in range(epochs):\n",
    "                loss = self.loss_fn(self.model(x), y) \n",
    "\n",
    "                loss.backward()\n",
    "                self.opt.step()\n",
    "                self.opt.zero_grad()\n",
    "            loss_ls.append(loss.item())\n",
    "\n",
    "        return loss_ls\n",
    "\n"
   ]
  },
  {
   "cell_type": "code",
   "execution_count": 4,
   "metadata": {},
   "outputs": [],
   "source": [
    "def get_json_by_year(dataset,year):\n",
    "    result = []\n",
    "    for folder in range(6):\n",
    "            with open('{}/train_features_{}.jsonl'.format(dataset,folder), 'r') as json_file:\n",
    "                json_list = list(json_file)\n",
    "                for json_str in json_list:\n",
    "                    json_content = json.loads(json_str)\n",
    "                    if json_content['appeared'].split('-')[0]==year:\n",
    "                        result.append(json_content)\n",
    "    return result"
   ]
  },
  {
   "cell_type": "code",
   "execution_count": 5,
   "metadata": {},
   "outputs": [],
   "source": [
    "def get_json(dataset):\n",
    "    result = []\n",
    "    for folder in range(6):\n",
    "            with open('{}/train_features_{}.jsonl'.format(dataset,folder), 'r') as json_file:\n",
    "                json_list = list(json_file)\n",
    "                for json_str in json_list:\n",
    "                    json_content = json.loads(json_str)\n",
    "                    result.append(json_content)\n",
    "    return result"
   ]
  },
  {
   "cell_type": "code",
   "execution_count": 23,
   "metadata": {},
   "outputs": [
    {
     "ename": "MemoryError",
     "evalue": "",
     "output_type": "error",
     "traceback": [
      "\u001b[1;31m---------------------------------------------------------------------------\u001b[0m",
      "\u001b[1;31mMemoryError\u001b[0m                               Traceback (most recent call last)",
      "\u001b[1;32m<ipython-input-23-25815fbce30b>\u001b[0m in \u001b[0;36m<module>\u001b[1;34m\u001b[0m\n\u001b[1;32m----> 1\u001b[1;33m \u001b[0mdf\u001b[0m \u001b[1;33m=\u001b[0m \u001b[0mpd\u001b[0m\u001b[1;33m.\u001b[0m\u001b[0mDataFrame\u001b[0m\u001b[1;33m(\u001b[0m\u001b[0mget_json\u001b[0m\u001b[1;33m(\u001b[0m\u001b[1;34m'new_ember_2017_2'\u001b[0m\u001b[1;33m)\u001b[0m\u001b[1;33m)\u001b[0m\u001b[1;33m\u001b[0m\u001b[1;33m\u001b[0m\u001b[0m\n\u001b[0m",
      "\u001b[1;32m<ipython-input-5-f83be668c401>\u001b[0m in \u001b[0;36mget_json\u001b[1;34m(dataset)\u001b[0m\n\u001b[0;32m      3\u001b[0m     \u001b[1;32mfor\u001b[0m \u001b[0mfolder\u001b[0m \u001b[1;32min\u001b[0m \u001b[0mrange\u001b[0m\u001b[1;33m(\u001b[0m\u001b[1;36m6\u001b[0m\u001b[1;33m)\u001b[0m\u001b[1;33m:\u001b[0m\u001b[1;33m\u001b[0m\u001b[1;33m\u001b[0m\u001b[0m\n\u001b[0;32m      4\u001b[0m             \u001b[1;32mwith\u001b[0m \u001b[0mopen\u001b[0m\u001b[1;33m(\u001b[0m\u001b[1;34m'{}/train_features_{}.jsonl'\u001b[0m\u001b[1;33m.\u001b[0m\u001b[0mformat\u001b[0m\u001b[1;33m(\u001b[0m\u001b[0mdataset\u001b[0m\u001b[1;33m,\u001b[0m\u001b[0mfolder\u001b[0m\u001b[1;33m)\u001b[0m\u001b[1;33m,\u001b[0m \u001b[1;34m'r'\u001b[0m\u001b[1;33m)\u001b[0m \u001b[1;32mas\u001b[0m \u001b[0mjson_file\u001b[0m\u001b[1;33m:\u001b[0m\u001b[1;33m\u001b[0m\u001b[1;33m\u001b[0m\u001b[0m\n\u001b[1;32m----> 5\u001b[1;33m                 \u001b[0mjson_list\u001b[0m \u001b[1;33m=\u001b[0m \u001b[0mlist\u001b[0m\u001b[1;33m(\u001b[0m\u001b[0mjson_file\u001b[0m\u001b[1;33m)\u001b[0m\u001b[1;33m\u001b[0m\u001b[1;33m\u001b[0m\u001b[0m\n\u001b[0m\u001b[0;32m      6\u001b[0m                 \u001b[1;32mfor\u001b[0m \u001b[0mjson_str\u001b[0m \u001b[1;32min\u001b[0m \u001b[0mjson_list\u001b[0m\u001b[1;33m:\u001b[0m\u001b[1;33m\u001b[0m\u001b[1;33m\u001b[0m\u001b[0m\n\u001b[0;32m      7\u001b[0m                     \u001b[0mjson_content\u001b[0m \u001b[1;33m=\u001b[0m \u001b[0mjson\u001b[0m\u001b[1;33m.\u001b[0m\u001b[0mloads\u001b[0m\u001b[1;33m(\u001b[0m\u001b[0mjson_str\u001b[0m\u001b[1;33m)\u001b[0m\u001b[1;33m\u001b[0m\u001b[1;33m\u001b[0m\u001b[0m\n",
      "\u001b[1;31mMemoryError\u001b[0m: "
     ]
    }
   ],
   "source": [
    "df = pd.DataFrame(get_json('new_ember_2017_2'))"
   ]
  },
  {
   "cell_type": "code",
   "execution_count": null,
   "metadata": {},
   "outputs": [],
   "source": [
    "df"
   ]
  },
  {
   "cell_type": "code",
   "execution_count": 8,
   "metadata": {},
   "outputs": [],
   "source": [
    "# X_train = torch.tensor(df[['sha256','appeared']].values)\n",
    "# Y_train = torch.tensor(df['label'].values)"
   ]
  },
  {
   "cell_type": "code",
   "execution_count": 9,
   "metadata": {},
   "outputs": [],
   "source": [
    "# deep_ensemble_result = deep_ensemble.fit(X_train, Y_train, number_of_output=2)"
   ]
  },
  {
   "cell_type": "code",
   "execution_count": 10,
   "metadata": {},
   "outputs": [],
   "source": [
    "# # df.dtypes\n",
    "# # \tsha256\tmd5\tappeared\tlabel\tavclass\thistogram\tbyteentropy\tstrings\tgeneral\theader\tsection\timports\texports\tdatadirectories\n",
    "# df_trans = pd.concat([df.drop(['strings'], axis=1), df['strings'].apply(pd.Series)], axis=1)\n",
    "# df_trans = pd.concat([df_trans.drop(['general'], axis=1), df_trans['general'].apply(pd.Series)], axis=1)\n",
    "# df_trans = pd.concat([df_trans.drop(['header'], axis=1), df_trans['header'].apply(pd.Series)], axis=1)\n",
    "# df_trans = pd.concat([df_trans.drop(['section'], axis=1), df_trans['section'].apply(pd.Series)], axis=1)\n",
    "# df_trans = pd.concat([df_trans.drop(['imports'], axis=1), df_trans['imports'].apply(pd.Series)], axis=1)\n",
    "# df_trans = pd.concat([df_trans.drop(['datadirectories'], axis=1), df_trans['datadirectories'].apply(pd.Series)], axis=1)"
   ]
  },
  {
   "cell_type": "code",
   "execution_count": 11,
   "metadata": {},
   "outputs": [],
   "source": [
    "# class FirstNetwork_v2(nn.Module):\n",
    "#     def __init__(self):\n",
    "#         super().__init__()\n",
    "#         torch.manual_seed(0)\n",
    "#         self.net = nn.Sequential( #sequential operation\n",
    "#             nn.Linear(2, 2), \n",
    "#             nn.Sigmoid(), \n",
    "#             nn.Linear(2, 4), \n",
    "#             nn.Softmax())\n",
    "\n",
    "#     def forward(self, X):\n",
    "#         return self.net(X)"
   ]
  },
  {
   "cell_type": "code",
   "execution_count": 12,
   "metadata": {},
   "outputs": [],
   "source": [
    "# model = FirstNetwork_v2() #object\n",
    "\n",
    "# def fit_v2(x, y, model, opt, loss_fn, epochs = 10000):\n",
    "#     \"\"\"Generic function for training a model \"\"\"\n",
    "#     for epoch in range(epochs):\n",
    "#         loss = loss_fn(model(x), y) \n",
    "\n",
    "#         loss.backward()\n",
    "#         opt.step()\n",
    "#         opt.zero_grad()\n",
    "    \n",
    "#     return loss.item()\n",
    "\n",
    "# #define loss \n",
    "# loss_fn = F.cross_entropy\n",
    "# #define optimizer \n",
    "# opt = optim.SGD(model.parameters(), lr=0.2)\n",
    "\n",
    "# #training model \n",
    "# fit_v2(X_train, Y_train, model, opt, loss_fn)"
   ]
  },
  {
   "cell_type": "code",
   "execution_count": null,
   "metadata": {},
   "outputs": [],
   "source": []
  }
 ],
 "metadata": {
  "kernelspec": {
   "display_name": "Python 3",
   "language": "python",
   "name": "python3"
  },
  "language_info": {
   "codemirror_mode": {
    "name": "ipython",
    "version": 3
   },
   "file_extension": ".py",
   "mimetype": "text/x-python",
   "name": "python",
   "nbconvert_exporter": "python",
   "pygments_lexer": "ipython3",
   "version": "3.7.6"
  }
 },
 "nbformat": 4,
 "nbformat_minor": 4
}
